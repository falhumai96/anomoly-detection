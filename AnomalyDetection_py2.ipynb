{
 "cells": [
  {
   "cell_type": "markdown",
   "metadata": {},
   "source": [
    "# Anomaly Detection\n",
    "\n",
    "This notebook analyzes a dataset on household electricity usage.\n",
    "\n",
    "## Data explanation\n",
    "\n",
    "The data is split into 9 columns;\n",
    "\n",
    "* **Date**: Date in format dd/mm/yyyy\n",
    "* **Time**: Time in format hh:mm:ss\n",
    "* **Global_active_power**: Household global minute-averaged active power (in kilowatts)\n",
    "* **Global_reactive_power: Household global minute-averaged reactive power (in kilowatts)\n",
    "* **Voltage**: Minute-averaged voltage (in volts)\n",
    "* **Global_intensity**: Household global minute-averaged current intensity (in ampere)\n",
    "* **Sub_metering_1**: Energy sub-metering No. 1 (in watt-hour of active energy). It corresponds to the kitchen, containing mainly a dishwasher, an oven and a microwave (hot plates are not electric but gas powered).\n",
    "* **Sub_metering_2**: Energy sub-metering No. 2 (in watt-hour of active energy). It corresponds to the laundry room, containing a washing-machine, a tumble-drier, a regrigerator and a light.\n",
    "* **Sub_metering_3**: Energy sub-metering No. 3 (in watt-hour of active energy). It corresponds to an electric water-heater and an air-conditioner.\n"
   ]
  },
  {
   "cell_type": "markdown",
   "metadata": {},
   "source": [
    "## Import libraries and Set Global Functions"
   ]
  },
  {
   "cell_type": "code",
   "execution_count": 1,
   "metadata": {},
   "outputs": [],
   "source": [
    "%matplotlib inline\n",
    "%config InlineBackend.figure_format = 'retina'\n",
    "\n",
    "import numpy as np\n",
    "import pandas as pd\n",
    "import matplotlib.pyplot as plt\n",
    "import os\n",
    "from IPython.display import Markdown, display"
   ]
  },
  {
   "cell_type": "markdown",
   "metadata": {},
   "source": [
    "## Load the data sets\n",
    "Heads up: The Date_Time parsing takes a while."
   ]
  },
  {
   "cell_type": "code",
   "execution_count": 2,
   "metadata": {},
   "outputs": [],
   "source": [
    "# To print Markdown from within Python 3 code.\n",
    "def printmd(string):\n",
    "    display(Markdown(string))\n",
    "\n",
    "data_sets_paths = os.listdir('tests')\n",
    "data_sets = dict()\n",
    "for data_set_path in data_sets_paths:\n",
    "    data_sets[os.path.basename(os.path.splitext(data_set_path)[0])] = pd.read_csv(os.path.join('tests', data_set_path),\n",
    "                                           #parse_dates=[['Date', 'Time']]\n",
    "                                          ) "
   ]
  },
  {
   "cell_type": "markdown",
   "metadata": {},
   "source": [
    "## Remove null values in data"
   ]
  },
  {
   "cell_type": "code",
   "execution_count": 3,
   "metadata": {},
   "outputs": [
    {
     "name": "stdout",
     "output_type": "stream",
     "text": [
      "Not cleaning the dataset - Turns out we need the rows that have null fields because they contain interesting data.\n"
     ]
    }
   ],
   "source": [
    "#data.isnull().sum() #print nulls\n",
    "#data = data.dropna();\n",
    "#data.isnull().sum()\n",
    "print(\"Not cleaning the dataset - Turns out we need the rows that have null fields because they contain interesting data.\")"
   ]
  },
  {
   "cell_type": "markdown",
   "metadata": {},
   "source": [
    "# Phase 1. General data exploration"
   ]
  },
  {
   "cell_type": "markdown",
   "metadata": {},
   "source": [
    "## Characteristic 1: Checking for overall changes relative to the expected normal behaviour\n",
    "\n",
    "For instance, consider checking the test data against the original data with respect to various characteristic features for certain specified time windows (such as Friday nights etc.) over a longer time period, say about a year. A fairly basic check could be done by calculating and comparing the mean and standard deviation. "
   ]
  },
  {
   "cell_type": "code",
   "execution_count": 4,
   "metadata": {},
   "outputs": [
    {
     "data": {
      "text/markdown": [
       "<h4>Test Data for \"train\"</h4>"
      ],
      "text/plain": [
       "<IPython.core.display.Markdown object>"
      ]
     },
     "metadata": {},
     "output_type": "display_data"
    },
    {
     "data": {
      "text/html": [
       "<div>\n",
       "<style scoped>\n",
       "    .dataframe tbody tr th:only-of-type {\n",
       "        vertical-align: middle;\n",
       "    }\n",
       "\n",
       "    .dataframe tbody tr th {\n",
       "        vertical-align: top;\n",
       "    }\n",
       "\n",
       "    .dataframe thead th {\n",
       "        text-align: right;\n",
       "    }\n",
       "</style>\n",
       "<table border=\"1\" class=\"dataframe\">\n",
       "  <thead>\n",
       "    <tr style=\"text-align: right;\">\n",
       "      <th></th>\n",
       "      <th>Global_active_power</th>\n",
       "      <th>Global_reactive_power</th>\n",
       "      <th>Voltage</th>\n",
       "      <th>Global_intensity</th>\n",
       "      <th>Sub_metering_1</th>\n",
       "      <th>Sub_metering_2</th>\n",
       "      <th>Sub_metering_3</th>\n",
       "    </tr>\n",
       "  </thead>\n",
       "  <tbody>\n",
       "    <tr>\n",
       "      <th>count</th>\n",
       "      <td>1.556420e+06</td>\n",
       "      <td>1.548096e+06</td>\n",
       "      <td>1.548096e+06</td>\n",
       "      <td>1.548096e+06</td>\n",
       "      <td>1.548096e+06</td>\n",
       "      <td>1.548096e+06</td>\n",
       "      <td>1.548096e+06</td>\n",
       "    </tr>\n",
       "    <tr>\n",
       "      <th>mean</th>\n",
       "      <td>1.227081e+00</td>\n",
       "      <td>1.218398e-01</td>\n",
       "      <td>2.405477e+02</td>\n",
       "      <td>4.642235e+00</td>\n",
       "      <td>1.156032e+00</td>\n",
       "      <td>1.358988e+00</td>\n",
       "      <td>6.166653e+00</td>\n",
       "    </tr>\n",
       "    <tr>\n",
       "      <th>std</th>\n",
       "      <td>1.055740e+00</td>\n",
       "      <td>1.116522e-01</td>\n",
       "      <td>3.261095e+00</td>\n",
       "      <td>4.579198e+00</td>\n",
       "      <td>6.275350e+00</td>\n",
       "      <td>6.023466e+00</td>\n",
       "      <td>8.315138e+00</td>\n",
       "    </tr>\n",
       "    <tr>\n",
       "      <th>min</th>\n",
       "      <td>7.600000e-02</td>\n",
       "      <td>0.000000e+00</td>\n",
       "      <td>2.232000e+02</td>\n",
       "      <td>2.000000e-01</td>\n",
       "      <td>0.000000e+00</td>\n",
       "      <td>0.000000e+00</td>\n",
       "      <td>0.000000e+00</td>\n",
       "    </tr>\n",
       "    <tr>\n",
       "      <th>25%</th>\n",
       "      <td>4.541500e-01</td>\n",
       "      <td>4.600000e-02</td>\n",
       "      <td>2.386700e+02</td>\n",
       "      <td>1.400000e+00</td>\n",
       "      <td>0.000000e+00</td>\n",
       "      <td>0.000000e+00</td>\n",
       "      <td>0.000000e+00</td>\n",
       "    </tr>\n",
       "    <tr>\n",
       "      <th>50%</th>\n",
       "      <td>8.200000e-01</td>\n",
       "      <td>1.000000e-01</td>\n",
       "      <td>2.407800e+02</td>\n",
       "      <td>2.600000e+00</td>\n",
       "      <td>0.000000e+00</td>\n",
       "      <td>0.000000e+00</td>\n",
       "      <td>1.000000e+00</td>\n",
       "    </tr>\n",
       "    <tr>\n",
       "      <th>75%</th>\n",
       "      <td>1.696200e+00</td>\n",
       "      <td>1.920000e-01</td>\n",
       "      <td>2.426700e+02</td>\n",
       "      <td>6.400000e+00</td>\n",
       "      <td>0.000000e+00</td>\n",
       "      <td>1.000000e+00</td>\n",
       "      <td>1.700000e+01</td>\n",
       "    </tr>\n",
       "    <tr>\n",
       "      <th>max</th>\n",
       "      <td>1.112200e+01</td>\n",
       "      <td>1.390000e+00</td>\n",
       "      <td>2.539400e+02</td>\n",
       "      <td>4.840000e+01</td>\n",
       "      <td>8.200000e+01</td>\n",
       "      <td>7.800000e+01</td>\n",
       "      <td>3.100000e+01</td>\n",
       "    </tr>\n",
       "  </tbody>\n",
       "</table>\n",
       "</div>"
      ],
      "text/plain": [
       "       Global_active_power  Global_reactive_power       Voltage  \\\n",
       "count         1.556420e+06           1.548096e+06  1.548096e+06   \n",
       "mean          1.227081e+00           1.218398e-01  2.405477e+02   \n",
       "std           1.055740e+00           1.116522e-01  3.261095e+00   \n",
       "min           7.600000e-02           0.000000e+00  2.232000e+02   \n",
       "25%           4.541500e-01           4.600000e-02  2.386700e+02   \n",
       "50%           8.200000e-01           1.000000e-01  2.407800e+02   \n",
       "75%           1.696200e+00           1.920000e-01  2.426700e+02   \n",
       "max           1.112200e+01           1.390000e+00  2.539400e+02   \n",
       "\n",
       "       Global_intensity  Sub_metering_1  Sub_metering_2  Sub_metering_3  \n",
       "count      1.548096e+06    1.548096e+06    1.548096e+06    1.548096e+06  \n",
       "mean       4.642235e+00    1.156032e+00    1.358988e+00    6.166653e+00  \n",
       "std        4.579198e+00    6.275350e+00    6.023466e+00    8.315138e+00  \n",
       "min        2.000000e-01    0.000000e+00    0.000000e+00    0.000000e+00  \n",
       "25%        1.400000e+00    0.000000e+00    0.000000e+00    0.000000e+00  \n",
       "50%        2.600000e+00    0.000000e+00    0.000000e+00    1.000000e+00  \n",
       "75%        6.400000e+00    0.000000e+00    1.000000e+00    1.700000e+01  \n",
       "max        4.840000e+01    8.200000e+01    7.800000e+01    3.100000e+01  "
      ]
     },
     "metadata": {},
     "output_type": "display_data"
    },
    {
     "data": {
      "text/markdown": [
       "<br>"
      ],
      "text/plain": [
       "<IPython.core.display.Markdown object>"
      ]
     },
     "metadata": {},
     "output_type": "display_data"
    },
    {
     "data": {
      "text/markdown": [
       "<h4>Test Data for \"unofficial-test\"</h4>"
      ],
      "text/plain": [
       "<IPython.core.display.Markdown object>"
      ]
     },
     "metadata": {},
     "output_type": "display_data"
    },
    {
     "data": {
      "text/html": [
       "<div>\n",
       "<style scoped>\n",
       "    .dataframe tbody tr th:only-of-type {\n",
       "        vertical-align: middle;\n",
       "    }\n",
       "\n",
       "    .dataframe tbody tr th {\n",
       "        vertical-align: top;\n",
       "    }\n",
       "\n",
       "    .dataframe thead th {\n",
       "        text-align: right;\n",
       "    }\n",
       "</style>\n",
       "<table border=\"1\" class=\"dataframe\">\n",
       "  <thead>\n",
       "    <tr style=\"text-align: right;\">\n",
       "      <th></th>\n",
       "      <th>Global_active_power</th>\n",
       "      <th>Global_reactive_power</th>\n",
       "      <th>Voltage</th>\n",
       "      <th>Global_intensity</th>\n",
       "      <th>Sub_metering_1</th>\n",
       "      <th>Sub_metering_2</th>\n",
       "      <th>Sub_metering_3</th>\n",
       "    </tr>\n",
       "  </thead>\n",
       "  <tbody>\n",
       "    <tr>\n",
       "      <th>count</th>\n",
       "      <td>518816.000000</td>\n",
       "      <td>501185.000000</td>\n",
       "      <td>501185.000000</td>\n",
       "      <td>501185.000000</td>\n",
       "      <td>501185.000000</td>\n",
       "      <td>501185.000000</td>\n",
       "      <td>501185.000000</td>\n",
       "    </tr>\n",
       "    <tr>\n",
       "      <th>mean</th>\n",
       "      <td>1.218208</td>\n",
       "      <td>0.129505</td>\n",
       "      <td>241.742351</td>\n",
       "      <td>4.583042</td>\n",
       "      <td>1.016565</td>\n",
       "      <td>1.111739</td>\n",
       "      <td>7.359761</td>\n",
       "    </tr>\n",
       "    <tr>\n",
       "      <th>std</th>\n",
       "      <td>0.905431</td>\n",
       "      <td>0.115773</td>\n",
       "      <td>2.999253</td>\n",
       "      <td>3.999089</td>\n",
       "      <td>5.757542</td>\n",
       "      <td>5.145805</td>\n",
       "      <td>8.742083</td>\n",
       "    </tr>\n",
       "    <tr>\n",
       "      <th>min</th>\n",
       "      <td>0.138000</td>\n",
       "      <td>0.000000</td>\n",
       "      <td>225.320000</td>\n",
       "      <td>0.600000</td>\n",
       "      <td>0.000000</td>\n",
       "      <td>0.000000</td>\n",
       "      <td>0.000000</td>\n",
       "    </tr>\n",
       "    <tr>\n",
       "      <th>25%</th>\n",
       "      <td>0.544350</td>\n",
       "      <td>0.054000</td>\n",
       "      <td>239.900000</td>\n",
       "      <td>1.400000</td>\n",
       "      <td>0.000000</td>\n",
       "      <td>0.000000</td>\n",
       "      <td>1.000000</td>\n",
       "    </tr>\n",
       "    <tr>\n",
       "      <th>50%</th>\n",
       "      <td>1.008100</td>\n",
       "      <td>0.102000</td>\n",
       "      <td>241.650000</td>\n",
       "      <td>3.200000</td>\n",
       "      <td>0.000000</td>\n",
       "      <td>0.000000</td>\n",
       "      <td>1.000000</td>\n",
       "    </tr>\n",
       "    <tr>\n",
       "      <th>75%</th>\n",
       "      <td>1.689250</td>\n",
       "      <td>0.200000</td>\n",
       "      <td>243.520000</td>\n",
       "      <td>6.400000</td>\n",
       "      <td>0.000000</td>\n",
       "      <td>1.000000</td>\n",
       "      <td>18.000000</td>\n",
       "    </tr>\n",
       "    <tr>\n",
       "      <th>max</th>\n",
       "      <td>9.724000</td>\n",
       "      <td>1.186000</td>\n",
       "      <td>254.150000</td>\n",
       "      <td>43.000000</td>\n",
       "      <td>88.000000</td>\n",
       "      <td>80.000000</td>\n",
       "      <td>31.000000</td>\n",
       "    </tr>\n",
       "  </tbody>\n",
       "</table>\n",
       "</div>"
      ],
      "text/plain": [
       "       Global_active_power  Global_reactive_power        Voltage  \\\n",
       "count        518816.000000          501185.000000  501185.000000   \n",
       "mean              1.218208               0.129505     241.742351   \n",
       "std               0.905431               0.115773       2.999253   \n",
       "min               0.138000               0.000000     225.320000   \n",
       "25%               0.544350               0.054000     239.900000   \n",
       "50%               1.008100               0.102000     241.650000   \n",
       "75%               1.689250               0.200000     243.520000   \n",
       "max               9.724000               1.186000     254.150000   \n",
       "\n",
       "       Global_intensity  Sub_metering_1  Sub_metering_2  Sub_metering_3  \n",
       "count     501185.000000   501185.000000   501185.000000   501185.000000  \n",
       "mean           4.583042        1.016565        1.111739        7.359761  \n",
       "std            3.999089        5.757542        5.145805        8.742083  \n",
       "min            0.600000        0.000000        0.000000        0.000000  \n",
       "25%            1.400000        0.000000        0.000000        1.000000  \n",
       "50%            3.200000        0.000000        0.000000        1.000000  \n",
       "75%            6.400000        0.000000        1.000000       18.000000  \n",
       "max           43.000000       88.000000       80.000000       31.000000  "
      ]
     },
     "metadata": {},
     "output_type": "display_data"
    }
   ],
   "source": [
    "# Characteristic 1\n",
    "is_first = True\n",
    "for data_set_path in data_sets:\n",
    "    if is_first:\n",
    "        is_first = False\n",
    "    else:\n",
    "        printmd('<br>')\n",
    "    printmd('<h4>Test Data for \\\"{}\\\"</h4>'.format(data_set_path))\n",
    "    display(data_sets[data_set_path].describe())"
   ]
  },
  {
   "cell_type": "markdown",
   "metadata": {},
   "source": [
    "## Characteristic 2: Understanding feature correlation\n",
    "\n",
    "Considering the various features such as “Global_active_power” and “Global_intensity” that collectively form a multivariate time series and their respective correlation coefficients, how meaningful is it to include all of these features in the data analysis? What can be simplified?"
   ]
  },
  {
   "cell_type": "code",
   "execution_count": 5,
   "metadata": {},
   "outputs": [],
   "source": [
    "# Characteristic 2"
   ]
  },
  {
   "cell_type": "markdown",
   "metadata": {},
   "source": [
    "# Phase 2. Anomaly detection approach\n",
    "\n",
    "## Approach 1: Finding Point Anomalies"
   ]
  },
  {
   "cell_type": "markdown",
   "metadata": {},
   "source": [
    "### (I) Out of Range\n",
    "\n",
    "Based on the Min and Max values of a certain feature in a specific time window over the training dataset, one can detect all those values (of the same feature) in the test dataset which are either above or are under the Max-Min range (i.e., point anomalies or outliers)"
   ]
  },
  {
   "cell_type": "code",
   "execution_count": 6,
   "metadata": {},
   "outputs": [],
   "source": [
    "# Out of range (Min/Max) on time slice\n"
   ]
  },
  {
   "cell_type": "markdown",
   "metadata": {},
   "source": [
    "### (II) Moving Average\n",
    "\n",
    "* Step 1: Consider a fixed size window of observations (e.g., a window of 7 observations).\n",
    "\n",
    "* Step 2: For a specific feature, calculate the average of the window and then slide the window by one observation. (This will eventually smoothen the curve of that feature.)      \n",
    "\n",
    "* Step 3: At any point of Step 2, if the difference of the value of the observation and the calculated average is either above or below a certain threshold, that observation can be considered a point anomaly of the feature in question."
   ]
  },
  {
   "cell_type": "code",
   "execution_count": 7,
   "metadata": {},
   "outputs": [
    {
     "data": {
      "text/plain": [
       "<matplotlib.axes._subplots.AxesSubplot at 0x7f2dc67aa278>"
      ]
     },
     "execution_count": 7,
     "metadata": {},
     "output_type": "execute_result"
    },
    {
     "data": {
      "image/png": "[encoded data removed]",
      "text/plain": [
       "<Figure size 432x288 with 1 Axes>"
      ]
     },
     "metadata": {
      "image/png": {
       "height": 250,
       "width": 366
      }
     },
     "output_type": "display_data"
    }
   ],
   "source": [
    "pd.set_option('display.float_format', lambda x: '%.3f' % x)\n",
    "\n",
    "# Step 1: Set window size\n",
    "part2data = data_sets[\"train\"]\n",
    "feature_name = 'Global_active_power'\n",
    "start_row = 0\n",
    "end_row   = 100000\n",
    "window_size = 7\n",
    "threshold_max = 4\n",
    "threshold_min = -4\n",
    "\n",
    "# Step 2: Get moving average of feature\n",
    "\n",
    "feature = part2data[feature_name]\n",
    "feature = feature[start_row:end_row]\n",
    "#feature = feature.dropna()\n",
    "\n",
    "moving_average = feature.rolling(window_size, center=False).mean()\n",
    "\n",
    "# Step 3: \n",
    "\n",
    "difference = pd.DataFrame(feature - moving_average)\n",
    "\n",
    "over_max = difference[feature_name] > threshold_max\n",
    "under_min = difference[feature_name] < threshold_min\n",
    "\n",
    "outliers = difference[under_min | over_max]\n",
    "\n",
    "feature.plot(marker='o',\n",
    "                    markerfacecolor='red',\n",
    "                    markeredgecolor='pink',\n",
    "                    markevery=outliers.index.tolist())\n",
    "\n",
    "## TO:DO add subplot showing moving average line over this?"
   ]
  },
  {
   "cell_type": "markdown",
   "metadata": {},
   "source": [
    "## Approach 2: Building HMMs and calculating log-likelihood (contextual anomalies)\n",
    "\n",
    "* Step 1: Choose a feature combination for training multivariate HMMs or provide a rational for selecting only a single feature for training univariate HMMs.\n",
    "* Step 2: Partition complex datasets into smaller subsets by defining various time windows, each representing a regular pattern for a different window size and/or different time period.\n",
    "* Step 3: Train one HMM for each time window using a suitable R package.\n",
    "* Step 4: Calculate the log-likelihood of an observation, given the HMM by means of the respective R package.\n",
    "* Step 5: Find the best HMM for each time window using cross-validation by partitioning the original data into training data and validation data (exclude the test data here!).\n",
    "* Step 6: Detect anomalies by comparing the log-likelihood of the training data and the test data.\n",
    "* Step 7: Fine-tune the balance between recall and precision and explain the rational for your final choice based on the calculated F-measure(s) or balanced F-score(s)."
   ]
  },
  {
   "cell_type": "code",
   "execution_count": 2,
   "metadata": {},
   "outputs": [],
   "source": [
    "# HMM\n",
    "\n",
    "# Filter by weekend\n",
    "# e.g. weekends = filter_weekend(\"tests/train.txt\", 30000)\n",
    "def filter_weekend(csv_path, num_rows):\n",
    "    # Get raw data (cannot be a copy)\n",
    "    weekend = pd.read_csv(csv_path)\n",
    "\n",
    "    if num_rows > 0:\n",
    "        # Get only first n rows\n",
    "        weekend = weekend[:num_rows]\n",
    "\n",
    "    # Convert date column to python datetime object\n",
    "    weekend['Date'] = pd.to_datetime(weekend['Date'])\n",
    "\n",
    "    # Create new column from Date: weekday number\n",
    "    weekend['weekday'] = weekend['Date'].apply(lambda x: x.weekday())\n",
    "    # Create new column from Date: weekday name\n",
    "    weekend['weekday_name'] = weekend['Date'].apply(lambda x: x.weekday_name)\n",
    "\n",
    "    # Filter by weekday >= 4\n",
    "    weekend = weekend[weekend['weekday'] >= 4]\n",
    "    return weekend\n",
    "\n",
    "# Filter by specific day\n",
    "# weekday_name must have first letter capitalized e.g. \"Friday\" or \"Wednesday\"\n",
    "# e.g. fridays = filter_specific_day(\"tests/train.txt\", 30000, \"Friday\")\n",
    "def filter_specific_day(csv_path, num_rows, weekday_name):\n",
    "    # Get raw data (cannot be a copy)\n",
    "    day = pd.read_csv(csv_path)\n",
    "    \n",
    "    if num_rows > 0:\n",
    "        # Get only first n rows\n",
    "        day = day[:num_rows]\n",
    "\n",
    "    # Convert date column to python datetime object\n",
    "    day['Date'] = pd.to_datetime(day['Date'])\n",
    "\n",
    "    # Create new column from Date: weekday number\n",
    "    day['weekday'] = day['Date'].apply(lambda x: x.weekday())\n",
    "    # Create new column from Date: weekday name\n",
    "    day['weekday_name'] = day['Date'].apply(lambda x: x.weekday_name)\n",
    "\n",
    "    # Filter by weekday_name\n",
    "    day = day[day['weekday_name'] == weekday_name]\n",
    "    return day\n"
   ]
  },
  {
   "cell_type": "code",
   "execution_count": 28,
   "metadata": {},
   "outputs": [
    {
     "name": "stdout",
     "output_type": "stream",
     "text": [
      "Splitting data into only Fridays\n"
     ]
    }
   ],
   "source": [
    "from pomegranate import *\n",
    "\n",
    "print(\"Splitting data into only Fridays\")\n",
    "\n",
    "all_fridays = filter_specific_day(\"tests/train.txt\", 0, \"Friday\")\n",
    "\n",
    "all_fridays = all_fridays.drop(columns=['Global_reactive_power', 'Date', 'Time', 'weekday', 'weekday_name'])\n",
    "\n",
    "all_fridays = all_fridays.values\n",
    "\n",
    "\n"
   ]
  },
  {
   "cell_type": "code",
   "execution_count": 31,
   "metadata": {},
   "outputs": [
    {
     "name": "stdout",
     "output_type": "stream",
     "text": [
      "Training HMM\n"
     ]
    }
   ],
   "source": [
    "print(\"Training HMM\")\n",
    "model = HiddenMarkovModel.from_samples(MultivariateGaussianDistribution, #NormalDistribution,\n",
    "                                       n_components=2,\n",
    "                                       X=all_fridays,\n",
    "                                       algorithm=\"baum-welch\",\n",
    "                                       min_iterations=30,\n",
    "                                       n_jobs=8)"
   ]
  },
  {
   "cell_type": "code",
   "execution_count": 32,
   "metadata": {},
   "outputs": [
    {
     "name": "stderr",
     "output_type": "stream",
     "text": [
      "/home/timr/miniconda3/lib/python3.6/site-packages/ipykernel_launcher.py:1: UserWarning: Install pygraphviz for nicer visualizations\n",
      "  \"\"\"Entry point for launching an IPython kernel.\n",
      "/home/timr/miniconda3/lib/python3.6/site-packages/networkx/drawing/nx_pylab.py:126: MatplotlibDeprecationWarning: pyplot.hold is deprecated.\n",
      "    Future behavior will be consistent with the long-time default:\n",
      "    plot commands add elements without first clearing the\n",
      "    Axes and/or Figure.\n",
      "  b = plt.ishold()\n",
      "/home/timr/miniconda3/lib/python3.6/site-packages/networkx/drawing/nx_pylab.py:522: MatplotlibDeprecationWarning: The is_string_like function was deprecated in version 2.1.\n",
      "  if not cb.is_string_like(edge_color) \\\n",
      "/home/timr/miniconda3/lib/python3.6/site-packages/networkx/drawing/nx_pylab.py:543: MatplotlibDeprecationWarning: The is_string_like function was deprecated in version 2.1.\n",
      "  if cb.is_string_like(edge_color) or len(edge_color) == 1:\n",
      "/home/timr/miniconda3/lib/python3.6/site-packages/networkx/drawing/nx_pylab.py:138: MatplotlibDeprecationWarning: pyplot.hold is deprecated.\n",
      "    Future behavior will be consistent with the long-time default:\n",
      "    plot commands add elements without first clearing the\n",
      "    Axes and/or Figure.\n",
      "  plt.hold(b)\n",
      "/home/timr/miniconda3/lib/python3.6/site-packages/matplotlib/__init__.py:901: MatplotlibDeprecationWarning: axes.hold is deprecated. Please remove it from your matplotlibrc and/or style files.\n",
      "  mplDeprecation)\n",
      "/home/timr/miniconda3/lib/python3.6/site-packages/matplotlib/rcsetup.py:156: MatplotlibDeprecationWarning: axes.hold is deprecated, will be removed in 3.0\n",
      "  mplDeprecation)\n"
     ]
    },
    {
     "data": {
      "image/png": "[encoded data removed]",
      "text/plain": [
       "<Figure size 432x288 with 1 Axes>"
      ]
     },
     "metadata": {
      "image/png": {
       "height": 320,
       "width": 471
      }
     },
     "output_type": "display_data"
    }
   ],
   "source": [
    "model.plot()"
   ]
  },
  {
   "cell_type": "code",
   "execution_count": 33,
   "metadata": {},
   "outputs": [
    {
     "data": {
      "text/plain": [
       "4"
      ]
     },
     "execution_count": 33,
     "metadata": {},
     "output_type": "execute_result"
    }
   ],
   "source": [
    "model.state_count()"
   ]
  },
  {
   "cell_type": "code",
   "execution_count": 11,
   "metadata": {},
   "outputs": [
    {
     "data": {
      "text/plain": [
       "array([[5.10600e-01, 2.45700e+02, 8.00000e-01, 0.00000e+00, 0.00000e+00,\n",
       "        0.00000e+00],\n",
       "       [2.06000e-01, 2.46180e+02, 8.00000e-01, 0.00000e+00, 0.00000e+00,\n",
       "        0.00000e+00],\n",
       "       [3.28000e-01, 2.45610e+02, 1.40000e+00, 0.00000e+00, 0.00000e+00,\n",
       "        0.00000e+00],\n",
       "       ...,\n",
       "       [2.47600e+00, 2.41060e+02, 1.02000e+01, 0.00000e+00, 0.00000e+00,\n",
       "        0.00000e+00],\n",
       "       [2.61695e+00, 2.41660e+02, 7.00000e+00, 0.00000e+00, 0.00000e+00,\n",
       "        0.00000e+00],\n",
       "       [2.57560e+00, 2.43000e+02, 1.40000e+00, 0.00000e+00, 0.00000e+00,\n",
       "        0.00000e+00]])"
      ]
     },
     "execution_count": 11,
     "metadata": {},
     "output_type": "execute_result"
    }
   ],
   "source": [
    "fridays_data"
   ]
  },
  {
   "cell_type": "code",
   "execution_count": 12,
   "metadata": {},
   "outputs": [
    {
     "data": {
      "text/plain": [
       "-20.02422612949503"
      ]
     },
     "execution_count": 12,
     "metadata": {},
     "output_type": "execute_result"
    }
   ],
   "source": [
    "fridays_test = filter_specific_day(\"tests/train.txt\", 20000, \"Friday\")\n",
    "\n",
    "fridays_test = fridays_test[1500:]\n",
    "\n",
    "fridays_test = fridays_test.drop(columns=['Global_reactive_power', 'Date', 'Time', 'weekday', 'weekday_name'])\n",
    "\n",
    "#test\n",
    "#fridays_test = fridays_test.drop(columns=['Sub_metering_1', 'Sub_metering_2', 'Sub_metering_3', 'Global_intensity'])\n",
    "\n",
    "\n",
    "fridays_test_data = fridays_test.values #= np.array(fridays_test)\n",
    "\n",
    "\n",
    "model.log_probability(fridays_test_data[1])\n",
    "#fridays_test_data"
   ]
  },
  {
   "cell_type": "code",
   "execution_count": 17,
   "metadata": {},
   "outputs": [],
   "source": []
  },
  {
   "cell_type": "code",
   "execution_count": 19,
   "metadata": {},
   "outputs": [
    {
     "ename": "AttributeError",
     "evalue": "'numpy.ndarray' object has no attribute 'sample'",
     "output_type": "error",
     "traceback": [
      "\u001b[0;31m---------------------------------------------------------------------------\u001b[0m",
      "\u001b[0;31mAttributeError\u001b[0m                            Traceback (most recent call last)",
      "\u001b[0;32m<ipython-input-19-867a1fa5de07>\u001b[0m in \u001b[0;36m<module>\u001b[0;34m()\u001b[0m\n\u001b[0;32m----> 1\u001b[0;31m \u001b[0mall_fridays\u001b[0m\u001b[0;34m.\u001b[0m\u001b[0msample\u001b[0m\u001b[0;34m(\u001b[0m\u001b[0;36m5\u001b[0m\u001b[0;34m)\u001b[0m\u001b[0;34m\u001b[0m\u001b[0m\n\u001b[0m",
      "\u001b[0;31mAttributeError\u001b[0m: 'numpy.ndarray' object has no attribute 'sample'"
     ]
    }
   ],
   "source": []
  },
  {
   "cell_type": "code",
   "execution_count": 20,
   "metadata": {},
   "outputs": [
    {
     "data": {
      "text/plain": [
       "136531.7173729008"
      ]
     },
     "execution_count": 20,
     "metadata": {},
     "output_type": "execute_result"
    }
   ],
   "source": [
    "\n",
    "# train\n",
    "model.fit(all_fridays, algorithm=\"baum-welch\", )"
   ]
  },
  {
   "cell_type": "code",
   "execution_count": 14,
   "metadata": {},
   "outputs": [
    {
     "data": {
      "text/plain": [
       "1440"
      ]
     },
     "execution_count": 14,
     "metadata": {},
     "output_type": "execute_result"
    }
   ],
   "source": [
    "len(fridays_data)"
   ]
  },
  {
   "cell_type": "code",
   "execution_count": 35,
   "metadata": {},
   "outputs": [
    {
     "data": {
      "text/plain": [
       "-3.073655665423981"
      ]
     },
     "execution_count": 35,
     "metadata": {},
     "output_type": "execute_result"
    }
   ],
   "source": [
    "model.log_probability(fridays_data) / len(fridays_data)"
   ]
  },
  {
   "cell_type": "code",
   "execution_count": 34,
   "metadata": {},
   "outputs": [
    {
     "data": {
      "text/plain": [
       "-18.997288609318616"
      ]
     },
     "execution_count": 34,
     "metadata": {},
     "output_type": "execute_result"
    }
   ],
   "source": [
    "model.log_probability(fridays_data[100])"
   ]
  },
  {
   "cell_type": "markdown",
   "metadata": {},
   "source": [
    "### Interesting point in time (January 1)\n",
    "Global active power drops at 14:00 on January 1"
   ]
  },
  {
   "cell_type": "code",
   "execution_count": 58,
   "metadata": {},
   "outputs": [
    {
     "data": {
      "text/plain": [
       "<matplotlib.axes._subplots.AxesSubplot at 0x7f34517db978>"
      ]
     },
     "execution_count": 58,
     "metadata": {},
     "output_type": "execute_result"
    },
    {
     "data": {
      "image/png": "[encoded data removed]",
      "text/plain": [
       "<matplotlib.figure.Figure at 0x7f34515f1438>"
      ]
     },
     "metadata": {
      "image/png": {
       "height": 250,
       "width": 373
      }
     },
     "output_type": "display_data"
    }
   ],
   "source": [
    "data_sets['train']['Global_active_power'][15*24*60:16*24*60].plot(x='Date_Time', y='Global_active_power')"
   ]
  },
  {
   "cell_type": "markdown",
   "metadata": {},
   "source": [
    "### Interesting point in time (December 31)\n",
    "Global active power is erratic in the night on December 31"
   ]
  },
  {
   "cell_type": "code",
   "execution_count": 59,
   "metadata": {},
   "outputs": [
    {
     "data": {
      "text/plain": [
       "<matplotlib.axes._subplots.AxesSubplot at 0x7f34517d3da0>"
      ]
     },
     "execution_count": 59,
     "metadata": {},
     "output_type": "execute_result"
    },
    {
     "data": {
      "image/png": "[encoded data removed]",
      "text/plain": [
       "<matplotlib.figure.Figure at 0x7f345017b908>"
      ]
     },
     "metadata": {
      "image/png": {
       "height": 250,
       "width": 364
      }
     },
     "output_type": "display_data"
    }
   ],
   "source": [
    "data_sets['train']['Global_active_power'][14*24*60:15*24*60].plot(x='Date_Time', y='Global_active_power')"
   ]
  },
  {
   "cell_type": "code",
   "execution_count": 60,
   "metadata": {},
   "outputs": [
    {
     "data": {
      "text/html": [
       "<div>\n",
       "<style scoped>\n",
       "    .dataframe tbody tr th:only-of-type {\n",
       "        vertical-align: middle;\n",
       "    }\n",
       "\n",
       "    .dataframe tbody tr th {\n",
       "        vertical-align: top;\n",
       "    }\n",
       "\n",
       "    .dataframe thead th {\n",
       "        text-align: right;\n",
       "    }\n",
       "</style>\n",
       "<table border=\"1\" class=\"dataframe\">\n",
       "  <thead>\n",
       "    <tr style=\"text-align: right;\">\n",
       "      <th></th>\n",
       "      <th>Global_active_power</th>\n",
       "      <th>Global_reactive_power</th>\n",
       "      <th>Voltage</th>\n",
       "      <th>Global_intensity</th>\n",
       "      <th>Sub_metering_1</th>\n",
       "      <th>Sub_metering_2</th>\n",
       "      <th>Sub_metering_3</th>\n",
       "    </tr>\n",
       "  </thead>\n",
       "  <tbody>\n",
       "    <tr>\n",
       "      <th>count</th>\n",
       "      <td>1.556420e+06</td>\n",
       "      <td>1.548096e+06</td>\n",
       "      <td>1.548096e+06</td>\n",
       "      <td>1.548096e+06</td>\n",
       "      <td>1.548096e+06</td>\n",
       "      <td>1.548096e+06</td>\n",
       "      <td>1.548096e+06</td>\n",
       "    </tr>\n",
       "    <tr>\n",
       "      <th>mean</th>\n",
       "      <td>1.227081e+00</td>\n",
       "      <td>1.218398e-01</td>\n",
       "      <td>2.405477e+02</td>\n",
       "      <td>4.642235e+00</td>\n",
       "      <td>1.156032e+00</td>\n",
       "      <td>1.358988e+00</td>\n",
       "      <td>6.166653e+00</td>\n",
       "    </tr>\n",
       "    <tr>\n",
       "      <th>std</th>\n",
       "      <td>1.055740e+00</td>\n",
       "      <td>1.116522e-01</td>\n",
       "      <td>3.261095e+00</td>\n",
       "      <td>4.579198e+00</td>\n",
       "      <td>6.275350e+00</td>\n",
       "      <td>6.023466e+00</td>\n",
       "      <td>8.315138e+00</td>\n",
       "    </tr>\n",
       "    <tr>\n",
       "      <th>min</th>\n",
       "      <td>7.600000e-02</td>\n",
       "      <td>0.000000e+00</td>\n",
       "      <td>2.232000e+02</td>\n",
       "      <td>2.000000e-01</td>\n",
       "      <td>0.000000e+00</td>\n",
       "      <td>0.000000e+00</td>\n",
       "      <td>0.000000e+00</td>\n",
       "    </tr>\n",
       "    <tr>\n",
       "      <th>25%</th>\n",
       "      <td>4.541500e-01</td>\n",
       "      <td>4.600000e-02</td>\n",
       "      <td>2.386700e+02</td>\n",
       "      <td>1.400000e+00</td>\n",
       "      <td>0.000000e+00</td>\n",
       "      <td>0.000000e+00</td>\n",
       "      <td>0.000000e+00</td>\n",
       "    </tr>\n",
       "    <tr>\n",
       "      <th>50%</th>\n",
       "      <td>8.200000e-01</td>\n",
       "      <td>1.000000e-01</td>\n",
       "      <td>2.407800e+02</td>\n",
       "      <td>2.600000e+00</td>\n",
       "      <td>0.000000e+00</td>\n",
       "      <td>0.000000e+00</td>\n",
       "      <td>1.000000e+00</td>\n",
       "    </tr>\n",
       "    <tr>\n",
       "      <th>75%</th>\n",
       "      <td>1.696200e+00</td>\n",
       "      <td>1.920000e-01</td>\n",
       "      <td>2.426700e+02</td>\n",
       "      <td>6.400000e+00</td>\n",
       "      <td>0.000000e+00</td>\n",
       "      <td>1.000000e+00</td>\n",
       "      <td>1.700000e+01</td>\n",
       "    </tr>\n",
       "    <tr>\n",
       "      <th>max</th>\n",
       "      <td>1.112200e+01</td>\n",
       "      <td>1.390000e+00</td>\n",
       "      <td>2.539400e+02</td>\n",
       "      <td>4.840000e+01</td>\n",
       "      <td>8.200000e+01</td>\n",
       "      <td>7.800000e+01</td>\n",
       "      <td>3.100000e+01</td>\n",
       "    </tr>\n",
       "  </tbody>\n",
       "</table>\n",
       "</div>"
      ],
      "text/plain": [
       "       Global_active_power  Global_reactive_power       Voltage  \\\n",
       "count         1.556420e+06           1.548096e+06  1.548096e+06   \n",
       "mean          1.227081e+00           1.218398e-01  2.405477e+02   \n",
       "std           1.055740e+00           1.116522e-01  3.261095e+00   \n",
       "min           7.600000e-02           0.000000e+00  2.232000e+02   \n",
       "25%           4.541500e-01           4.600000e-02  2.386700e+02   \n",
       "50%           8.200000e-01           1.000000e-01  2.407800e+02   \n",
       "75%           1.696200e+00           1.920000e-01  2.426700e+02   \n",
       "max           1.112200e+01           1.390000e+00  2.539400e+02   \n",
       "\n",
       "       Global_intensity  Sub_metering_1  Sub_metering_2  Sub_metering_3  \n",
       "count      1.548096e+06    1.548096e+06    1.548096e+06    1.548096e+06  \n",
       "mean       4.642235e+00    1.156032e+00    1.358988e+00    6.166653e+00  \n",
       "std        4.579198e+00    6.275350e+00    6.023466e+00    8.315138e+00  \n",
       "min        2.000000e-01    0.000000e+00    0.000000e+00    0.000000e+00  \n",
       "25%        1.400000e+00    0.000000e+00    0.000000e+00    0.000000e+00  \n",
       "50%        2.600000e+00    0.000000e+00    0.000000e+00    1.000000e+00  \n",
       "75%        6.400000e+00    0.000000e+00    1.000000e+00    1.700000e+01  \n",
       "max        4.840000e+01    8.200000e+01    7.800000e+01    3.100000e+01  "
      ]
     },
     "execution_count": 60,
     "metadata": {},
     "output_type": "execute_result"
    }
   ],
   "source": [
    "data_sets['train'].describe()"
   ]
  },
  {
   "cell_type": "code",
   "execution_count": null,
   "metadata": {},
   "outputs": [],
   "source": []
  },
  {
   "cell_type": "code",
   "execution_count": null,
   "metadata": {},
   "outputs": [],
   "source": []
  },
  {
   "cell_type": "code",
   "execution_count": null,
   "metadata": {},
   "outputs": [],
   "source": []
  }
 ],
 "metadata": {
  "kernelspec": {
   "display_name": "Python 3",
   "language": "python",
   "name": "python3"
  },
  "language_info": {
   "codemirror_mode": {
    "name": "ipython",
    "version": 3
   },
   "file_extension": ".py",
   "mimetype": "text/x-python",
   "name": "python",
   "nbconvert_exporter": "python",
   "pygments_lexer": "ipython3",
   "version": "3.6.3"
  }
 },
 "nbformat": 4,
 "nbformat_minor": 2
}
