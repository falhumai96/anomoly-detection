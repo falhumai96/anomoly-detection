{
 "cells": [
  {
   "cell_type": "markdown",
   "metadata": {},
   "source": [
    "# Anomaly Detection\n",
    "\n",
    "This notebook analyzes a dataset on global electricity usage.\n"
   ]
  },
  {
   "cell_type": "markdown",
   "metadata": {},
   "source": [
    "## Import libraries"
   ]
  },
  {
   "cell_type": "code",
   "execution_count": 2,
   "metadata": {},
   "outputs": [],
   "source": [
    "%matplotlib inline\n",
    "%config InlineBackend.figure_format = 'retina'\n",
    "\n",
    "import numpy as np\n",
    "import pandas as pd\n",
    "import matplotlib.pyplot as plt"
   ]
  },
  {
   "cell_type": "markdown",
   "metadata": {},
   "source": [
    "## Load the data"
   ]
  },
  {
   "cell_type": "code",
   "execution_count": 50,
   "metadata": {},
   "outputs": [
    {
     "name": "stdout",
     "output_type": "stream",
     "text": [
      "(1556444, 9)\n"
     ]
    }
   ],
   "source": [
    "data_path = 'train.txt'\n",
    "\n",
    "data = pd.read_csv(data_path)\n",
    "\n",
    "print(data.shape)"
   ]
  },
  {
   "cell_type": "markdown",
   "metadata": {},
   "source": [
    "### Observe the imperfections in the data"
   ]
  },
  {
   "cell_type": "code",
   "execution_count": 46,
   "metadata": {},
   "outputs": [
    {
     "data": {
      "text/plain": [
       "Date                        0\n",
       "Time                        0\n",
       "Global_active_power        24\n",
       "Global_reactive_power    8348\n",
       "Voltage                  8348\n",
       "Global_intensity         8348\n",
       "Sub_metering_1           8348\n",
       "Sub_metering_2           8348\n",
       "Sub_metering_3           8348\n",
       "dtype: int64"
      ]
     },
     "execution_count": 46,
     "metadata": {},
     "output_type": "execute_result"
    }
   ],
   "source": [
    "data.isnull().sum()"
   ]
  },
  {
   "cell_type": "markdown",
   "metadata": {},
   "source": [
    "### Cleaning the data\n",
    "\n",
    "The function above shows that there are 8348 null values in multiple columns, and 24 null values in Global_active_power.\n",
    "\n",
    "We will need to remove those to clean the dataset.\n",
    "\n",
    "The pandas dropna() function removes all rows that have any null values. \n",
    "\n",
    "The sum of null values afterwards should be 0."
   ]
  },
  {
   "cell_type": "code",
   "execution_count": 47,
   "metadata": {},
   "outputs": [
    {
     "data": {
      "text/plain": [
       "Date                     0\n",
       "Time                     0\n",
       "Global_active_power      0\n",
       "Global_reactive_power    0\n",
       "Voltage                  0\n",
       "Global_intensity         0\n",
       "Sub_metering_1           0\n",
       "Sub_metering_2           0\n",
       "Sub_metering_3           0\n",
       "dtype: int64"
      ]
     },
     "execution_count": 47,
     "metadata": {},
     "output_type": "execute_result"
    }
   ],
   "source": [
    "data = data.dropna();\n",
    "data.isnull().sum()"
   ]
  },
  {
   "cell_type": "markdown",
   "metadata": {},
   "source": [
    "## Understanding the data\n",
    "\n",
    "The data is split into 9 columns;\n",
    "\n",
    "* **Date**: The date of the data collection. \n",
    "* **Time**: The time of the data collection. Data was recorded once every minute.\n",
    "* **Global_active_power**: \n",
    "* **Voltage**:\n",
    "* **Global_intensity**:\n",
    "* **Sub_metering_1**:\n",
    "* **Sub_metering_2**:\n",
    "* **Sub_metering_3**:"
   ]
  },
  {
   "cell_type": "code",
   "execution_count": 48,
   "metadata": {},
   "outputs": [
    {
     "data": {
      "text/html": [
       "<div>\n",
       "<style scoped>\n",
       "    .dataframe tbody tr th:only-of-type {\n",
       "        vertical-align: middle;\n",
       "    }\n",
       "\n",
       "    .dataframe tbody tr th {\n",
       "        vertical-align: top;\n",
       "    }\n",
       "\n",
       "    .dataframe thead th {\n",
       "        text-align: right;\n",
       "    }\n",
       "</style>\n",
       "<table border=\"1\" class=\"dataframe\">\n",
       "  <thead>\n",
       "    <tr style=\"text-align: right;\">\n",
       "      <th></th>\n",
       "      <th>Date</th>\n",
       "      <th>Time</th>\n",
       "      <th>Global_active_power</th>\n",
       "      <th>Global_reactive_power</th>\n",
       "      <th>Voltage</th>\n",
       "      <th>Global_intensity</th>\n",
       "      <th>Sub_metering_1</th>\n",
       "      <th>Sub_metering_2</th>\n",
       "      <th>Sub_metering_3</th>\n",
       "    </tr>\n",
       "  </thead>\n",
       "  <tbody>\n",
       "    <tr>\n",
       "      <th>1</th>\n",
       "      <td>16/12/2006</td>\n",
       "      <td>17:25:00</td>\n",
       "      <td>5.360</td>\n",
       "      <td>0.436</td>\n",
       "      <td>233.63</td>\n",
       "      <td>23.0</td>\n",
       "      <td>0.0</td>\n",
       "      <td>1.0</td>\n",
       "      <td>16.0</td>\n",
       "    </tr>\n",
       "    <tr>\n",
       "      <th>3</th>\n",
       "      <td>16/12/2006</td>\n",
       "      <td>17:27:00</td>\n",
       "      <td>5.388</td>\n",
       "      <td>0.502</td>\n",
       "      <td>233.74</td>\n",
       "      <td>23.0</td>\n",
       "      <td>0.0</td>\n",
       "      <td>1.0</td>\n",
       "      <td>17.0</td>\n",
       "    </tr>\n",
       "    <tr>\n",
       "      <th>5</th>\n",
       "      <td>16/12/2006</td>\n",
       "      <td>17:29:00</td>\n",
       "      <td>3.520</td>\n",
       "      <td>0.522</td>\n",
       "      <td>235.02</td>\n",
       "      <td>15.0</td>\n",
       "      <td>0.0</td>\n",
       "      <td>2.0</td>\n",
       "      <td>17.0</td>\n",
       "    </tr>\n",
       "    <tr>\n",
       "      <th>6</th>\n",
       "      <td>16/12/2006</td>\n",
       "      <td>17:30:00</td>\n",
       "      <td>3.702</td>\n",
       "      <td>0.520</td>\n",
       "      <td>235.09</td>\n",
       "      <td>15.8</td>\n",
       "      <td>0.0</td>\n",
       "      <td>1.0</td>\n",
       "      <td>17.0</td>\n",
       "    </tr>\n",
       "    <tr>\n",
       "      <th>7</th>\n",
       "      <td>16/12/2006</td>\n",
       "      <td>17:31:00</td>\n",
       "      <td>3.700</td>\n",
       "      <td>0.520</td>\n",
       "      <td>235.22</td>\n",
       "      <td>15.8</td>\n",
       "      <td>0.0</td>\n",
       "      <td>1.0</td>\n",
       "      <td>17.0</td>\n",
       "    </tr>\n",
       "    <tr>\n",
       "      <th>8</th>\n",
       "      <td>16/12/2006</td>\n",
       "      <td>17:32:00</td>\n",
       "      <td>3.668</td>\n",
       "      <td>0.510</td>\n",
       "      <td>233.99</td>\n",
       "      <td>15.8</td>\n",
       "      <td>0.0</td>\n",
       "      <td>1.0</td>\n",
       "      <td>17.0</td>\n",
       "    </tr>\n",
       "    <tr>\n",
       "      <th>10</th>\n",
       "      <td>16/12/2006</td>\n",
       "      <td>17:34:00</td>\n",
       "      <td>4.448</td>\n",
       "      <td>0.498</td>\n",
       "      <td>232.86</td>\n",
       "      <td>19.6</td>\n",
       "      <td>0.0</td>\n",
       "      <td>1.0</td>\n",
       "      <td>17.0</td>\n",
       "    </tr>\n",
       "    <tr>\n",
       "      <th>15</th>\n",
       "      <td>16/12/2006</td>\n",
       "      <td>17:39:00</td>\n",
       "      <td>3.384</td>\n",
       "      <td>0.282</td>\n",
       "      <td>237.14</td>\n",
       "      <td>14.2</td>\n",
       "      <td>0.0</td>\n",
       "      <td>0.0</td>\n",
       "      <td>17.0</td>\n",
       "    </tr>\n",
       "    <tr>\n",
       "      <th>18</th>\n",
       "      <td>16/12/2006</td>\n",
       "      <td>17:42:00</td>\n",
       "      <td>3.266</td>\n",
       "      <td>0.000</td>\n",
       "      <td>237.13</td>\n",
       "      <td>13.8</td>\n",
       "      <td>0.0</td>\n",
       "      <td>0.0</td>\n",
       "      <td>18.0</td>\n",
       "    </tr>\n",
       "    <tr>\n",
       "      <th>20</th>\n",
       "      <td>16/12/2006</td>\n",
       "      <td>17:44:00</td>\n",
       "      <td>5.894</td>\n",
       "      <td>0.000</td>\n",
       "      <td>232.69</td>\n",
       "      <td>25.4</td>\n",
       "      <td>0.0</td>\n",
       "      <td>0.0</td>\n",
       "      <td>16.0</td>\n",
       "    </tr>\n",
       "  </tbody>\n",
       "</table>\n",
       "</div>"
      ],
      "text/plain": [
       "          Date      Time  Global_active_power  Global_reactive_power  Voltage  \\\n",
       "1   16/12/2006  17:25:00                5.360                  0.436   233.63   \n",
       "3   16/12/2006  17:27:00                5.388                  0.502   233.74   \n",
       "5   16/12/2006  17:29:00                3.520                  0.522   235.02   \n",
       "6   16/12/2006  17:30:00                3.702                  0.520   235.09   \n",
       "7   16/12/2006  17:31:00                3.700                  0.520   235.22   \n",
       "8   16/12/2006  17:32:00                3.668                  0.510   233.99   \n",
       "10  16/12/2006  17:34:00                4.448                  0.498   232.86   \n",
       "15  16/12/2006  17:39:00                3.384                  0.282   237.14   \n",
       "18  16/12/2006  17:42:00                3.266                  0.000   237.13   \n",
       "20  16/12/2006  17:44:00                5.894                  0.000   232.69   \n",
       "\n",
       "    Global_intensity  Sub_metering_1  Sub_metering_2  Sub_metering_3  \n",
       "1               23.0             0.0             1.0            16.0  \n",
       "3               23.0             0.0             1.0            17.0  \n",
       "5               15.0             0.0             2.0            17.0  \n",
       "6               15.8             0.0             1.0            17.0  \n",
       "7               15.8             0.0             1.0            17.0  \n",
       "8               15.8             0.0             1.0            17.0  \n",
       "10              19.6             0.0             1.0            17.0  \n",
       "15              14.2             0.0             0.0            17.0  \n",
       "18              13.8             0.0             0.0            18.0  \n",
       "20              25.4             0.0             0.0            16.0  "
      ]
     },
     "execution_count": 48,
     "metadata": {},
     "output_type": "execute_result"
    }
   ],
   "source": [
    "data.head(10)"
   ]
  },
  {
   "cell_type": "markdown",
   "metadata": {},
   "source": [
    "## A quick look at the first 10 days\n",
    "\n",
    "Global Active Power vs Time for the first 30 days (30 days * 24 hours * 60 minutes)"
   ]
  },
  {
   "cell_type": "code",
   "execution_count": 49,
   "metadata": {},
   "outputs": [
    {
     "data": {
      "text/plain": [
       "<matplotlib.axes._subplots.AxesSubplot at 0x7f62208120f0>"
      ]
     },
     "execution_count": 49,
     "metadata": {},
     "output_type": "execute_result"
    },
    {
     "data": {
      "image/png": "[encoded data removed]",
      "text/plain": [
       "<Figure size 432x288 with 1 Axes>"
      ]
     },
     "metadata": {
      "image/png": {
       "height": 254,
       "width": 364
      }
     },
     "output_type": "display_data"
    }
   ],
   "source": [
    "data[:30*24*60].plot(x='Date', y='Global_active_power')"
   ]
  },
  {
   "cell_type": "code",
   "execution_count": 13,
   "metadata": {},
   "outputs": [
    {
     "data": {
      "text/html": [
       "<div>\n",
       "<style scoped>\n",
       "    .dataframe tbody tr th:only-of-type {\n",
       "        vertical-align: middle;\n",
       "    }\n",
       "\n",
       "    .dataframe tbody tr th {\n",
       "        vertical-align: top;\n",
       "    }\n",
       "\n",
       "    .dataframe thead th {\n",
       "        text-align: right;\n",
       "    }\n",
       "</style>\n",
       "<table border=\"1\" class=\"dataframe\">\n",
       "  <thead>\n",
       "    <tr style=\"text-align: right;\">\n",
       "      <th></th>\n",
       "      <th>Global_active_power</th>\n",
       "      <th>Global_reactive_power</th>\n",
       "      <th>Voltage</th>\n",
       "      <th>Global_intensity</th>\n",
       "      <th>Sub_metering_1</th>\n",
       "      <th>Sub_metering_2</th>\n",
       "      <th>Sub_metering_3</th>\n",
       "    </tr>\n",
       "  </thead>\n",
       "  <tbody>\n",
       "    <tr>\n",
       "      <th>count</th>\n",
       "      <td>1.556420e+06</td>\n",
       "      <td>1.548096e+06</td>\n",
       "      <td>1.548096e+06</td>\n",
       "      <td>1.548096e+06</td>\n",
       "      <td>1.548096e+06</td>\n",
       "      <td>1.548096e+06</td>\n",
       "      <td>1.548096e+06</td>\n",
       "    </tr>\n",
       "    <tr>\n",
       "      <th>mean</th>\n",
       "      <td>1.227081e+00</td>\n",
       "      <td>1.218398e-01</td>\n",
       "      <td>2.405477e+02</td>\n",
       "      <td>4.642235e+00</td>\n",
       "      <td>1.156032e+00</td>\n",
       "      <td>1.358988e+00</td>\n",
       "      <td>6.166653e+00</td>\n",
       "    </tr>\n",
       "    <tr>\n",
       "      <th>std</th>\n",
       "      <td>1.055740e+00</td>\n",
       "      <td>1.116522e-01</td>\n",
       "      <td>3.261095e+00</td>\n",
       "      <td>4.579198e+00</td>\n",
       "      <td>6.275350e+00</td>\n",
       "      <td>6.023466e+00</td>\n",
       "      <td>8.315138e+00</td>\n",
       "    </tr>\n",
       "    <tr>\n",
       "      <th>min</th>\n",
       "      <td>7.600000e-02</td>\n",
       "      <td>0.000000e+00</td>\n",
       "      <td>2.232000e+02</td>\n",
       "      <td>2.000000e-01</td>\n",
       "      <td>0.000000e+00</td>\n",
       "      <td>0.000000e+00</td>\n",
       "      <td>0.000000e+00</td>\n",
       "    </tr>\n",
       "    <tr>\n",
       "      <th>25%</th>\n",
       "      <td>4.541500e-01</td>\n",
       "      <td>4.600000e-02</td>\n",
       "      <td>2.386700e+02</td>\n",
       "      <td>1.400000e+00</td>\n",
       "      <td>0.000000e+00</td>\n",
       "      <td>0.000000e+00</td>\n",
       "      <td>0.000000e+00</td>\n",
       "    </tr>\n",
       "    <tr>\n",
       "      <th>50%</th>\n",
       "      <td>8.200000e-01</td>\n",
       "      <td>1.000000e-01</td>\n",
       "      <td>2.407800e+02</td>\n",
       "      <td>2.600000e+00</td>\n",
       "      <td>0.000000e+00</td>\n",
       "      <td>0.000000e+00</td>\n",
       "      <td>1.000000e+00</td>\n",
       "    </tr>\n",
       "    <tr>\n",
       "      <th>75%</th>\n",
       "      <td>1.696200e+00</td>\n",
       "      <td>1.920000e-01</td>\n",
       "      <td>2.426700e+02</td>\n",
       "      <td>6.400000e+00</td>\n",
       "      <td>0.000000e+00</td>\n",
       "      <td>1.000000e+00</td>\n",
       "      <td>1.700000e+01</td>\n",
       "    </tr>\n",
       "    <tr>\n",
       "      <th>max</th>\n",
       "      <td>1.112200e+01</td>\n",
       "      <td>1.390000e+00</td>\n",
       "      <td>2.539400e+02</td>\n",
       "      <td>4.840000e+01</td>\n",
       "      <td>8.200000e+01</td>\n",
       "      <td>7.800000e+01</td>\n",
       "      <td>3.100000e+01</td>\n",
       "    </tr>\n",
       "  </tbody>\n",
       "</table>\n",
       "</div>"
      ],
      "text/plain": [
       "       Global_active_power  Global_reactive_power       Voltage  \\\n",
       "count         1.556420e+06           1.548096e+06  1.548096e+06   \n",
       "mean          1.227081e+00           1.218398e-01  2.405477e+02   \n",
       "std           1.055740e+00           1.116522e-01  3.261095e+00   \n",
       "min           7.600000e-02           0.000000e+00  2.232000e+02   \n",
       "25%           4.541500e-01           4.600000e-02  2.386700e+02   \n",
       "50%           8.200000e-01           1.000000e-01  2.407800e+02   \n",
       "75%           1.696200e+00           1.920000e-01  2.426700e+02   \n",
       "max           1.112200e+01           1.390000e+00  2.539400e+02   \n",
       "\n",
       "       Global_intensity  Sub_metering_1  Sub_metering_2  Sub_metering_3  \n",
       "count      1.548096e+06    1.548096e+06    1.548096e+06    1.548096e+06  \n",
       "mean       4.642235e+00    1.156032e+00    1.358988e+00    6.166653e+00  \n",
       "std        4.579198e+00    6.275350e+00    6.023466e+00    8.315138e+00  \n",
       "min        2.000000e-01    0.000000e+00    0.000000e+00    0.000000e+00  \n",
       "25%        1.400000e+00    0.000000e+00    0.000000e+00    0.000000e+00  \n",
       "50%        2.600000e+00    0.000000e+00    0.000000e+00    1.000000e+00  \n",
       "75%        6.400000e+00    0.000000e+00    1.000000e+00    1.700000e+01  \n",
       "max        4.840000e+01    8.200000e+01    7.800000e+01    3.100000e+01  "
      ]
     },
     "execution_count": 13,
     "metadata": {},
     "output_type": "execute_result"
    }
   ],
   "source": [
    "data.describe()"
   ]
  }
 ],
 "metadata": {
  "kernelspec": {
   "display_name": "Python 3",
   "language": "python",
   "name": "python3"
  },
  "language_info": {
   "codemirror_mode": {
    "name": "ipython",
    "version": 3
   },
   "file_extension": ".py",
   "mimetype": "text/x-python",
   "name": "python",
   "nbconvert_exporter": "python",
   "pygments_lexer": "ipython3",
   "version": "3.6.3"
  }
 },
 "nbformat": 4,
 "nbformat_minor": 2
}
